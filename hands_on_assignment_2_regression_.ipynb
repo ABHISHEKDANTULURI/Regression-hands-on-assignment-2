{
  "nbformat": 4,
  "nbformat_minor": 0,
  "metadata": {
    "colab": {
      "provenance": [],
      "authorship_tag": "ABX9TyMKTpkpB+lm9Iel2ZOcl9L5",
      "include_colab_link": true
    },
    "kernelspec": {
      "name": "python3",
      "display_name": "Python 3"
    },
    "language_info": {
      "name": "python"
    }
  },
  "cells": [
    {
      "cell_type": "markdown",
      "metadata": {
        "id": "view-in-github",
        "colab_type": "text"
      },
      "source": [
        "<a href=\"https://colab.research.google.com/github/ABHISHEKDANTULURI/Regression-hands-on-assignment-2/blob/main/hands_on_assignment_2_regression_.ipynb\" target=\"_parent\"><img src=\"https://colab.research.google.com/assets/colab-badge.svg\" alt=\"Open In Colab\"/></a>"
      ]
    },
    {
      "cell_type": "markdown",
      "source": [
        "HANDS-ON SESSION-II\n",
        "\n",
        "Abhishek dantuluri\n",
        "\n",
        "REGRESSION MODELS\n",
        "\n",
        "Import the required libraries"
      ],
      "metadata": {
        "id": "TF8t0b5eXi0h"
      }
    },
    {
      "cell_type": "code",
      "execution_count": 1,
      "metadata": {
        "id": "yzCV8PZ5OnNy"
      },
      "outputs": [],
      "source": [
        "# Import libraries\n",
        "import pandas as pd\n",
        "import numpy as np\n",
        "import matplotlib.pyplot as plt\n",
        "import seaborn as sns\n",
        "from sklearn.model_selection import train_test_split\n",
        "from sklearn.linear_model import LinearRegression, LogisticRegression\n",
        "from sklearn.tree import DecisionTreeRegressor, DecisionTreeClassifier\n",
        "from sklearn.ensemble import RandomForestRegressor, RandomForestClassifier, GradientBoostingRegressor\n",
        "from sklearn.metrics import mean_absolute_error, mean_squared_error, r2_score, accuracy_score, precision_score, recall_score, f1_score, confusion_matrix\n",
        "from sklearn.preprocessing import StandardScaler\n",
        "from sklearn.cluster import KMeans\n",
        "from sklearn.metrics import silhouette_score"
      ]
    },
    {
      "cell_type": "markdown",
      "source": [
        "Import the data using pandas library\n",
        "\n",
        "Delete the empty rows"
      ],
      "metadata": {
        "id": "haLE3o_qXL7I"
      }
    },
    {
      "cell_type": "code",
      "source": [
        "data = pd.read_csv('Boston-house-price-data.csv')"
      ],
      "metadata": {
        "id": "aZCq-slnROHL"
      },
      "execution_count": 9,
      "outputs": []
    },
    {
      "cell_type": "markdown",
      "source": [
        "Encode the categorical columns and perform standardization on the numeric columns."
      ],
      "metadata": {
        "id": "xhOtk771XsRc"
      }
    },
    {
      "cell_type": "code",
      "source": [
        "# Create a DataFrame\n",
        "df = pd.DataFrame(data)\n",
        "\n",
        "# Define features (X) and target variable (y)\n",
        "X = df.drop(columns=['MEDV'])\n",
        "y = df['MEDV']\n",
        "\n",
        "# Split the data into training and testing sets\n",
        "X_train, X_test, y_train, y_test = train_test_split(X, y, test_size=0.2, random_state=42)\n",
        "\n",
        "# Initialize regression models\n",
        "models = {\n",
        "    \"Linear Regression\": LinearRegression(),\n",
        "    \"Decision Tree\": DecisionTreeRegressor(),\n",
        "    \"Random Forest\": RandomForestRegressor(),\n",
        "    \"Gradient Boosting\": GradientBoostingRegressor()\n",
        "}\n",
        "\n",
        "# Train and evaluate each model\n",
        "for name, model in models.items():\n",
        "    # Train the model\n",
        "    model.fit(X_train, y_train)\n",
        "    # Make predictions\n",
        "    y_pred = model.predict(X_test)\n",
        "    # Evaluate the model\n",
        "    mae = mean_absolute_error(y_test, y_pred)\n",
        "    mse = mean_squared_error(y_test, y_pred)\n",
        "    r2 = r2_score(y_test, y_pred)\n",
        "    # Print results\n",
        "    print(f\"{name} Results:\")\n",
        "    print(f\"Mean Absolute Error: {mae}\")\n",
        "    print(f\"Mean Squared Error: {mse}\")\n",
        "    print(f\"R2 Score: {r2}\")\n",
        "    print(\"-\" * 30)"
      ],
      "metadata": {
        "colab": {
          "base_uri": "https://localhost:8080/"
        },
        "id": "0yFTKDAcTQhL",
        "outputId": "aa870ce0-ec83-49f6-8f0d-0ec8047655c4"
      },
      "execution_count": 11,
      "outputs": [
        {
          "output_type": "stream",
          "name": "stdout",
          "text": [
            "Linear Regression Results:\n",
            "Mean Absolute Error: 3.189091965887837\n",
            "Mean Squared Error: 24.291119474973478\n",
            "R2 Score: 0.6687594935356326\n",
            "------------------------------\n",
            "Decision Tree Results:\n",
            "Mean Absolute Error: 2.757843137254903\n",
            "Mean Squared Error: 22.465392156862745\n",
            "R2 Score: 0.6936556224332692\n",
            "------------------------------\n",
            "Random Forest Results:\n",
            "Mean Absolute Error: 2.1536764705882354\n",
            "Mean Squared Error: 8.997368833333338\n",
            "R2 Score: 0.8773093594031115\n",
            "------------------------------\n",
            "Gradient Boosting Results:\n",
            "Mean Absolute Error: 1.9025615233714606\n",
            "Mean Squared Error: 6.115833349227558\n",
            "R2 Score: 0.9166027840694231\n",
            "------------------------------\n"
          ]
        }
      ]
    },
    {
      "cell_type": "markdown",
      "source": [
        "We built and evaluated multiple regression models to predict house prices based on various features, comparing their performance using metrics like Mean Absolute Error, Mean Squared Error, and R-squared."
      ],
      "metadata": {
        "id": "VNlbZWMvYagJ"
      }
    },
    {
      "cell_type": "markdown",
      "source": [
        "Conclusion:\n",
        "The R2 values of each one are\n",
        "linear regression-0.6687\n",
        "decision tree-0.6936\n",
        "random forest-0.8773\n",
        "gradient boosting-0.9166\n",
        "\n",
        " In Regression model Gradient Boosting Regressor is the best model among others."
      ],
      "metadata": {
        "id": "Mu10LFHxU9I_"
      }
    }
  ]
}